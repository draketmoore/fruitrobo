{
 "cells": [
  {
   "cell_type": "code",
   "execution_count": 2,
   "metadata": {},
   "outputs": [
    {
     "name": "stderr",
     "output_type": "stream",
     "text": [
      "/home/drakemoore/.local/lib/python3.8/site-packages/pandas/core/computation/expressions.py:20: UserWarning: Pandas requires version '2.7.3' or newer of 'numexpr' (version '2.7.1' currently installed).\n",
      "  from pandas.core.computation.check import NUMEXPR_INSTALLED\n"
     ]
    }
   ],
   "source": [
    "import bagpy\n",
    "from bagpy import bagreader\n",
    "import pandas as pd\n",
    "import seaborn as sea\n",
    "import matplotlib.pyplot as plt\n",
    "import numpy as np\n",
    "from tabulate import tabulate\n",
    "import os\n",
    "import allantools\n",
    "import math\n",
    "from scipy.optimize import least_squares\n",
    "import scipy.integrate as integrate\n",
    "from scipy.signal import butter, sosfilt, freqz\n"
   ]
  },
  {
   "cell_type": "code",
   "execution_count": 4,
   "metadata": {},
   "outputs": [
    {
     "name": "stdout",
     "output_type": "stream",
     "text": [
      "[INFO]  Successfully created the data folder ../data/drive_around.\n",
      "  Topics                 Types  Message Count  Frequency\n",
      "0   /gps  gps_driver/Customgps            420   0.999767\n",
      "1   /imu   vn_driver/Vectornav          14171  38.610385\n",
      "             Time  header.seq  header.stamp.secs  header.stamp.nsecs  \\\n",
      "0    1.711657e+09           4         1711657002           247928380   \n",
      "1    1.711657e+09           5         1711657003           247841835   \n",
      "2    1.711657e+09           6         1711657004           246653079   \n",
      "3    1.711657e+09           7         1711657005           260493755   \n",
      "4    1.711657e+09           8         1711657006           248119831   \n",
      "..            ...         ...                ...                 ...   \n",
      "415  1.711657e+09         419         1711657418           264106988   \n",
      "416  1.711657e+09         420         1711657419           248622417   \n",
      "417  1.711657e+09         421         1711657420           261044263   \n",
      "418  1.711657e+09         422         1711657421           251128911   \n",
      "419  1.711657e+09         423         1711657422           250825881   \n",
      "\n",
      "     header.frame_id   latitude  longitude  altitude    utm_easting  \\\n",
      "0                NaN  42.337088 -71.087380       0.0  328039.922533   \n",
      "1                NaN  42.337087 -71.087378       0.0  328040.055297   \n",
      "2                NaN  42.337087 -71.087378       0.0  328040.055297   \n",
      "3                NaN  42.337085 -71.087377       0.0  328040.188061   \n",
      "4                NaN  45.670417 -71.087377       0.0  337413.422331   \n",
      "..               ...        ...        ...       ...            ...   \n",
      "415              NaN  45.670217 -71.087248       0.0  337422.838883   \n",
      "416              NaN  42.336873 -71.087263       0.0  328048.948018   \n",
      "417              NaN  45.670200 -71.087270       0.0  337421.102994   \n",
      "418              NaN  42.336865 -71.087275       0.0  328047.964152   \n",
      "419              NaN  42.336863 -71.087273       0.0  328048.096917   \n",
      "\n",
      "     utm_northing  zone letter  hdop  \\\n",
      "0    4.689314e+06    19      T   3.7   \n",
      "1    4.689314e+06    19      T   3.8   \n",
      "2    4.689314e+06    19      T   3.8   \n",
      "3    4.689314e+06    19      T   3.7   \n",
      "4    5.059549e+06    19      T   3.7   \n",
      "..            ...   ...    ...   ...   \n",
      "415  5.059526e+06    19      T   3.2   \n",
      "416  4.689290e+06    19      T   3.2   \n",
      "417  5.059524e+06    19      T   3.2   \n",
      "418  4.689289e+06    19      T   3.2   \n",
      "419  4.689289e+06    19      T   3.2   \n",
      "\n",
      "                                            gpgga_read  current_time.secs  \\\n",
      "0    $GPGGA,201642.000,4220.2253,N,07105.2428,W,1,0...         1711675001   \n",
      "1    $GPGGA,201643.000,4220.2252,N,07105.2427,W,1,0...         1711675002   \n",
      "2    $GPGGA,201644.000,4220.2252,N,07105.2427,W,1,0...         1711675003   \n",
      "3    $GPGGA,201645.000,4220.2251,N,07105.2426,W,1,0...         1711675004   \n",
      "4    $GPGGA,201646.000,4220.2250,N,07105.2426,W,1,0...         1711675005   \n",
      "..                                                 ...                ...   \n",
      "415  $GPGGA,202338.000,4220.2130,N,07105.2349,W,1,0...         1711675417   \n",
      "416  $GPGGA,202339.000,4220.2124,N,07105.2358,W,1,0...         1711675418   \n",
      "417  $GPGGA,202340.000,4220.2120,N,07105.2362,W,1,0...         1711675420   \n",
      "418  $GPGGA,202341.000,4220.2119,N,07105.2365,W,1,0...         1711675420   \n",
      "419  $GPGGA,202342.000,4220.2118,N,07105.2364,W,1,0...         1711675421   \n",
      "\n",
      "     current_time.nsecs  \n",
      "0             999999761  \n",
      "1             999999523  \n",
      "2             999999523  \n",
      "3             999999761  \n",
      "4             999999761  \n",
      "..                  ...  \n",
      "415           999999761  \n",
      "416           999999523  \n",
      "417                   0  \n",
      "418           999999761  \n",
      "419           999999046  \n",
      "\n",
      "[420 rows x 16 columns]\n",
      "             timestamp  fruit         ripeness\n",
      "0  1713040450809777975  apple    High Ripeness\n",
      "1  1713040514005719184  apple  Medium Ripeness\n",
      "2  1713040564066757917  apple     Low Ripeness\n"
     ]
    }
   ],
   "source": [
    "b = bagreader('../data/drive_around.bag')\n",
    "print(b.topic_table)\n",
    "gps_csv = pd.read_csv(b.message_by_topic('/gps'))\n",
    "detected_csv = pd.read_csv('../data/fruits.csv')\n",
    "\n",
    "print(gps_csv)\n",
    "print(detected_csv)\n",
    "\n"
   ]
  },
  {
   "cell_type": "code",
   "execution_count": 22,
   "metadata": {},
   "outputs": [
    {
     "name": "stdout",
     "output_type": "stream",
     "text": [
      "0     20.000000\n",
      "1     83.195941\n",
      "2    133.256980\n",
      "Name: timestamp, dtype: float64\n",
      "150\n"
     ]
    }
   ],
   "source": [
    "adj_fruit_time = detected_csv['timestamp'] - detected_csv['timestamp'][0]\n",
    "adj_fruit_time = (adj_fruit_time) * 1e-9 + 20\n",
    "print(adj_fruit_time)\n",
    "\n",
    "adj_gps_time = gps_csv['header.stamp.secs'] + gps_csv['header.stamp.nsecs'] * 1e-9\n",
    "adj_gps_time = adj_gps_time - adj_gps_time[0]\n",
    "\n",
    "\n",
    "\n",
    "adj_easting = gps_csv['utm_easting'] - gps_csv['utm_easting'][0]\n",
    "adj_northing = gps_csv['utm_northing'] - gps_csv['utm_northing'][0]\n",
    "\n",
    "cutoff = 270\n",
    "cut_easting = adj_easting.to_numpy()[cutoff:] - adj_easting.to_numpy()[cutoff]\n",
    "cut_northing = adj_northing.to_numpy()[cutoff:] - adj_northing.to_numpy()[cutoff]\n",
    "\n",
    "print(len(cut_easting))\n",
    "\n",
    "for i in range(0, len(cut_easting)):\n",
    "    if abs(cut_easting[i]) > 300 or abs(cut_northing[i]) > 300:\n",
    "        cut_easting[i] = cut_easting[i-1]\n",
    "        cut_northing[i] = cut_northing[i-1]\n"
   ]
  },
  {
   "cell_type": "code",
   "execution_count": 26,
   "metadata": {},
   "outputs": [
    {
     "name": "stdout",
     "output_type": "stream",
     "text": [
      "{'High Ripeness': [(12.802671607234515, -16.515086985193193)], 'Medium Ripeness': [(36.89066883921623, -148.11258155480027)], 'Low Ripeness': [(-8.222116938442923, -104.85613670293242)]}\n"
     ]
    }
   ],
   "source": [
    "fruit_gps = {'High Ripeness': [], 'Medium Ripeness': [], 'Low Ripeness': []}\n",
    "for i, t in enumerate(adj_fruit_time):\n",
    "    closest_time = min(adj_gps_time, key=lambda x:abs(x-t))\n",
    "    index = np.where(adj_gps_time == closest_time)[0][0]\n",
    "    fruit_gps[detected_csv['ripeness'][i]].append((cut_easting[index], cut_northing[index]))\n",
    "\n",
    "print(fruit_gps)\n",
    "color_map = {'High Ripeness': 'red', 'Medium Ripeness': 'orange', 'Low Ripeness': 'green'}\n",
    "    "
   ]
  },
  {
   "cell_type": "code",
   "execution_count": 25,
   "metadata": {},
   "outputs": [
    {
     "data": {
      "image/png": "[encoded data removed]",
      "text/plain": [
       "<Figure size 640x480 with 1 Axes>"
      ]
     },
     "metadata": {},
     "output_type": "display_data"
    }
   ],
   "source": [
    "\n",
    "\n",
    "plt.figure()\n",
    "plt.plot(cut_easting, cut_northing, label='GPS Position')\n",
    "\n",
    "for key in fruit_gps:\n",
    "    fruit_gps[key] = np.array(fruit_gps[key])\n",
    "    plt.scatter(fruit_gps[key][:,0], fruit_gps[key][:,1], label=key, color = color_map[key])\n",
    "\n",
    "\n",
    "plt.xlabel('Easting [m]')\n",
    "plt.ylabel('Northing [m]')\n",
    "plt.title('Human Position')\n",
    "plt.legend()\n",
    "plt.show()"
   ]
  },
  {
   "cell_type": "code",
   "execution_count": 328,
   "metadata": {},
   "outputs": [
    {
     "name": "stdout",
     "output_type": "stream",
     "text": [
      "Index(['Time', 'header.seq', 'header.stamp.secs', 'header.stamp.nsecs',\n",
      "       'header.frame_id', 'latitude', 'longitude', 'altitude', 'utm_easting',\n",
      "       'utm_northing', 'zone', 'letter', 'hdop', 'gpgga_read',\n",
      "       'current_time.secs', 'current_time.nsecs'],\n",
      "      dtype='object')\n"
     ]
    }
   ],
   "source": [
    "import matplotlib.pyplot as plt\n",
    "print(gps_csv.columns)\n",
    "# Calculate x and y displacement\n",
    "\n"
   ]
  }
 ],
 "metadata": {
  "kernelspec": {
   "display_name": "Python 3",
   "language": "python",
   "name": "python3"
  },
  "language_info": {
   "codemirror_mode": {
    "name": "ipython",
    "version": 3
   },
   "file_extension": ".py",
   "mimetype": "text/x-python",
   "name": "python",
   "nbconvert_exporter": "python",
   "pygments_lexer": "ipython3",
   "version": "3.8.10"
  }
 },
 "nbformat": 4,
 "nbformat_minor": 2
}
