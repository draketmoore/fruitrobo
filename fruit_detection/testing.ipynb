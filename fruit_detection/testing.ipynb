{
 "cells": [
  {
   "cell_type": "code",
   "execution_count": 1,
   "id": "83c7c87e-cdaa-4dcc-a67f-9e9eefe16f40",
   "metadata": {},
   "outputs": [],
   "source": [
    "import cv2\n",
    "import numpy as np\n",
    "from copy import deepcopy"
   ]
  },
  {
   "cell_type": "code",
   "execution_count": 2,
   "id": "fc50b77c-c3a2-4f71-bcf8-0a60f2bc7a07",
   "metadata": {},
   "outputs": [],
   "source": [
    "class FruitRipenessDetector:\n",
    "    def __init__(self):\n",
    "        self.kernelOpen = np.ones((5, 5), np.uint8)\n",
    "        self.kernelClose = np.ones((20, 20), np.uint8)\n",
    "\n",
    "        # Define HSV color ranges for different ripeness levels\n",
    "        self.lower_green = np.array([35, 100, 50])\n",
    "        self.upper_green = np.array([85, 255, 255])\n",
    "        self.lower_yellow = np.array([20, 100, 100])\n",
    "        self.upper_yellow = np.array([30, 255, 255])\n",
    "        self.lower_red = np.array([0, 100, 100])\n",
    "        self.upper_red = np.array([10, 255, 255])\n",
    "\n",
    "    def preprocess_image(self, image):\n",
    "        hsv_image = cv2.cvtColor(image, cv2.COLOR_BGR2HSV)\n",
    "        blurred_image = cv2.GaussianBlur(hsv_image, (7, 7), 0)\n",
    "        return blurred_image\n",
    "        \n",
    "    def find_contours(self, image):\n",
    "        edge_img = deepcopy(image)\n",
    "        edged = cv2.Canny(edge_img, 50, 100)\n",
    "        edged = cv2.dilate(edged, self.kernelOpen, iterations=1)\n",
    "        edged = cv2.erode(edged, self.kernelClose, iterations=1)\n",
    "        contours, _ = cv2.findContours(edged.copy(), cv2.RETR_EXTERNAL, cv2.CHAIN_APPROX_SIMPLE)[-2:]\n",
    "        return contours\n",
    "\n",
    "\n",
    "    def apply_color_mask(self, hsv, lower_color, upper_color):\n",
    "        mask = cv2.inRange(hsv, lower_color, upper_color)\n",
    "        mask_open = cv2.morphologyEx(mask, cv2.MORPH_OPEN, self.kernelOpen)\n",
    "        mask_close = cv2.morphologyEx(mask_open, cv2.MORPH_CLOSE, self.kernelClose)\n",
    "        return mask_close\n",
    "\n",
    "    def calculate_color_percentages(self, mask_close, crop_img):\n",
    "        area = np.sum(mask_close == 255)\n",
    "        total_area = crop_img.size / 3  # Divide by 3 for HSV channels\n",
    "        return area / total_area if total_area else 0\n",
    "\n",
    "    def determine_ripeness(self, red_percentage, yellow_percentage, green_percentage):\n",
    "        if green_percentage > 0.5:\n",
    "            return \"Low Ripeness\"\n",
    "        elif yellow_percentage > 0.8:\n",
    "            return \"High Ripeness\"\n",
    "        else:\n",
    "            return \"Medium Ripeness\"\n",
    "\n",
    "    def process_image(self, image):\n",
    "        hsv_image = self.preprocess_image(image)\n",
    "        contours = self.find_contours(hsv_image)\n",
    "        \n",
    "        # Sort contours by area in descending order and remove small contours\n",
    "        contours = sorted(contours, key=cv2.contourArea, reverse=True)\n",
    "        if contours:\n",
    "            # Focus on the largest contour\n",
    "            largest_contour = contours[0]\n",
    "            x, y, w, h = cv2.boundingRect(largest_contour)\n",
    "            crop_img = hsv_image[y:y+h, x:x+w]\n",
    "        \n",
    "            # Apply color masks for red, green, and yellow segments within the fruit\n",
    "            red_mask = self.apply_color_mask(crop_img, self.lower_red, self.upper_red) + \\\n",
    "                   self.apply_color_mask(crop_img, np.array([170, 50, 50]), np.array([180, 255, 255]))\n",
    "            green_mask = self.apply_color_mask(crop_img, self.lower_green, self.upper_green)\n",
    "            yellow_mask = self.apply_color_mask(crop_img, self.lower_yellow, self.upper_yellow)\n",
    "        \n",
    "            # Calculate the percentage of each color present in the fruit\n",
    "            red_percentage = self.calculate_color_percentages(red_mask, crop_img)\n",
    "            green_percentage = self.calculate_color_percentages(green_mask, crop_img)\n",
    "            yellow_percentage = self.calculate_color_percentages(yellow_mask, crop_img)\n",
    "        \n",
    "\n",
    "            ripeness = self.determine_ripeness(red_percentage, yellow_percentage, green_percentage)\n",
    "        \n",
    "            # Draw a rectangle around the fruit and label it with the ripeness level\n",
    "            cv2.rectangle(image, (x, y), (x+w, y+h), (0, 255, 0), 2)\n",
    "            cv2.putText(image, ripeness, (x, y-10), cv2.FONT_HERSHEY_SIMPLEX, 0.9, (36,255,12), 2)\n",
    "    \n",
    "        return image\n"
   ]
  },
  {
   "cell_type": "code",
   "execution_count": 3,
   "id": "09216f28-23cd-449f-bdfe-60fd0413ff94",
   "metadata": {},
   "outputs": [],
   "source": [
    "def main():\n",
    "    # Load an image for testing\n",
    "    image = cv2.imread(\"ripe_mango.jpg\")\n",
    "\n",
    "    detector = FruitRipenessDetector()\n",
    "    processed_image = detector.process_image(image)\n",
    "\n",
    "    cv2.imshow(\"Ripeness Detection\", processed_image)\n",
    "    \n",
    "    while True:\n",
    "        if cv2.waitKey(1) & 0xFF == ord('q'):\n",
    "            break\n",
    "\n",
    "    cv2.destroyAllWindows()"
   ]
  },
  {
   "cell_type": "code",
   "execution_count": 4,
   "id": "51d7d4fc-f108-4e9a-8269-c917cacdbeee",
   "metadata": {},
   "outputs": [
    {
     "name": "stderr",
     "output_type": "stream",
     "text": [
      "libGL error: MESA-LOADER: failed to open swrast: /usr/lib/dri/swrast_dri.so: cannot open shared object file: No such file or directory (search paths /usr/lib/x86_64-linux-gnu/dri:\\$${ORIGIN}/dri:/usr/lib/dri, suffix _dri)\n",
      "libGL error: failed to load driver: swrast\n"
     ]
    }
   ],
   "source": [
    "if __name__ == \"__main__\":\n",
    "    main()"
   ]
  },
  {
   "cell_type": "code",
   "execution_count": null,
   "id": "81d6b777-be75-4506-a5d2-90501494adec",
   "metadata": {},
   "outputs": [],
   "source": []
  }
 ],
 "metadata": {
  "kernelspec": {
   "display_name": "Python (cv_env)",
   "language": "python",
   "name": "cv_env"
  },
  "language_info": {
   "codemirror_mode": {
    "name": "ipython",
    "version": 3
   },
   "file_extension": ".py",
   "mimetype": "text/x-python",
   "name": "python",
   "nbconvert_exporter": "python",
   "pygments_lexer": "ipython3",
   "version": "3.11.8"
  }
 },
 "nbformat": 4,
 "nbformat_minor": 5
}
