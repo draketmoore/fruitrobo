{
 "cells": [
  {
   "cell_type": "code",
   "execution_count": null,
   "id": "81d6b777-be75-4506-a5d2-90501494adec",
   "metadata": {},
   "outputs": [
    {
     "name": "stdout",
     "output_type": "stream",
     "text": [
      "Ripeness: Medium Ripeness\n"
     ]
    }
   ],
   "source": [
    "from __future__ import division\n",
    "import cv2\n",
    "import numpy as np\n",
    "\n",
    "# Create kernels for morphological operations\n",
    "kernelOpen = np.ones((5, 5), np.uint8)\n",
    "kernelClose = np.ones((20, 20), np.uint8)\n",
    "\n",
    "# Set the path to your image here\n",
    "image_path = 'test2.jpg'\n",
    "\n",
    "# Load the image\n",
    "image = cv2.imread(image_path)\n",
    "if image is None:\n",
    "    raise ValueError(\"Image not found or unable to read.\")\n",
    "\n",
    "# Convert BGR to HSV\n",
    "hsv = cv2.cvtColor(image, cv2.COLOR_BGR2HSV)\n",
    "\n",
    "# Define color ranges and create masks\n",
    "masks = {\n",
    "    'red1': cv2.inRange(hsv, np.array([0, 50, 50]), np.array([10, 255, 255])),\n",
    "    'red2': cv2.inRange(hsv, np.array([170, 50, 50]), np.array([180, 255, 255])),\n",
    "    'green': cv2.inRange(hsv, np.array([50, 50, 50]), np.array([70, 255, 255])),\n",
    "    'yellow': cv2.inRange(hsv, np.array([20, 50, 50]), np.array([30, 255, 255]))\n",
    "}\n",
    "\n",
    "masks['red'] = masks['red1'] + masks['red2']\n",
    "maskOpen = cv2.morphologyEx(masks['red'], cv2.MORPH_OPEN, kernelOpen)\n",
    "maskFinal = cv2.morphologyEx(maskOpen, cv2.MORPH_CLOSE, kernelClose)\n",
    "\n",
    "# Calculate color percentages\n",
    "total_pixels = hsv.size / 3  # Number of pixels per channel\n",
    "color_counts = {color: np.sum(mask == 255) for color, mask in masks.items()}\n",
    "color_percents = {color: count / total_pixels for color, count in color_counts.items()}\n",
    "\n",
    "# Determine ripeness based on color proportions\n",
    "ripeness = \"Medium Ripeness\"\n",
    "if color_percents['green'] > 0.5:\n",
    "    ripeness = \"Low Ripeness\"\n",
    "elif color_percents['yellow'] > 0.8:\n",
    "    ripeness = \"High Ripeness\"\n",
    "\n",
    "print(\"Ripeness:\", ripeness)\n",
    "for color, mask in masks.items():\n",
    "    cv2.imshow(f'{color.capitalize()} Mask', mask)\n",
    "\n",
    "# Wait for the ESC key\n",
    "while True:\n",
    "    if cv2.waitKey(5) == 27:  # ESC key\n",
    "        break\n",
    "\n",
    "# Clean up\n",
    "cv2.destroyAllWindows()"
   ]
  },
  {
   "cell_type": "code",
   "execution_count": null,
   "id": "72d3dbca-4fa0-43b6-a412-86c250e76545",
   "metadata": {},
   "outputs": [],
   "source": []
  },
  {
   "cell_type": "code",
   "execution_count": null,
   "id": "870520e7-f911-4074-b907-b6abdf07e6e9",
   "metadata": {},
   "outputs": [],
   "source": []
  }
 ],
 "metadata": {
  "kernelspec": {
   "display_name": "Python (cv_env)",
   "language": "python",
   "name": "cv_env"
  },
  "language_info": {
   "codemirror_mode": {
    "name": "ipython",
    "version": 3
   },
   "file_extension": ".py",
   "mimetype": "text/x-python",
   "name": "python",
   "nbconvert_exporter": "python",
   "pygments_lexer": "ipython3",
   "version": "3.11.8"
  }
 },
 "nbformat": 4,
 "nbformat_minor": 5
}
