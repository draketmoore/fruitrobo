{
 "cells": [
  {
   "cell_type": "code",
   "execution_count": 13,
   "id": "72d3dbca-4fa0-43b6-a412-86c250e76545",
   "metadata": {},
   "outputs": [
    {
     "name": "stdout",
     "output_type": "stream",
     "text": [
      "Ripeness: Low Ripeness\n",
      "Red: 0.03%\n",
      "Green: 7.67%\n",
      "Yellow: 0.30%\n"
     ]
    }
   ],
   "source": [
    "from __future__ import division\n",
    "import cv2\n",
    "import numpy as np\n",
    "\n",
    "# Create kernels for morphological operations\n",
    "kernelOpen = np.ones((5, 5), np.uint8)\n",
    "kernelClose = np.ones((20, 20), np.uint8)\n",
    "\n",
    "# Set the path to your image here\n",
    "image_path = 'raw_banana.jpg'\n",
    "\n",
    "# Load the image\n",
    "image = cv2.imread(image_path)\n",
    "if image is None:\n",
    "    raise ValueError(\"Image not found or unable to read.\")\n",
    "\n",
    "# Convert BGR to HSV\n",
    "hsv = cv2.cvtColor(image, cv2.COLOR_BGR2HSV)\n",
    "\n",
    "# Define color ranges and create masks\n",
    "masks = {\n",
    "    'red1': cv2.inRange(hsv, np.array([0, 50, 50]), np.array([10, 255, 255])),\n",
    "    'red2': cv2.inRange(hsv, np.array([170, 50, 50]), np.array([180, 255, 255])),\n",
    "    'green': cv2.inRange(hsv, np.array([40, 40, 40]), np.array([70, 255, 255])),\n",
    "    'yellow': cv2.inRange(hsv, np.array([20, 50, 50]), np.array([30, 255, 255]))\n",
    "}\n",
    "masks['red'] = masks['red1'] + masks['red2']\n",
    "\n",
    "# Calculate color percentages\n",
    "total_pixels = hsv.size / 3  # Number of pixels per channel\n",
    "color_counts = {color: np.sum(mask == 255) for color, mask in masks.items()}\n",
    "color_percents = {color: count / total_pixels * 100 for color, count in color_counts.items()}\n",
    "\n",
    "# Determine ripeness based on dominant color proportion\n",
    "ripeness = \"Unknown\"\n",
    "\n",
    "# Find the dominant color by finding the maximum percentage\n",
    "dominant_color = max(color_percents, key=color_percents.get)\n",
    "\n",
    "if dominant_color == 'green':\n",
    "    ripeness = \"Low Ripeness\"\n",
    "elif dominant_color == 'yellow':\n",
    "    ripeness = \"Medium Ripeness\"\n",
    "elif dominant_color == 'red':\n",
    "    ripeness = \"High Ripeness\"\n",
    "\n",
    "# Print color percentages and ripeness in the console\n",
    "print(f\"Ripeness: {ripeness}\")\n",
    "print(f\"Red: {color_percents['red']:.2f}%\")\n",
    "print(f\"Green: {color_percents['green']:.2f}%\")\n",
    "print(f\"Yellow: {color_percents['yellow']:.2f}%\")\n",
    "\n",
    "# Find the largest contour in the combined mask\n",
    "total_mask = sum(masks.values())\n",
    "contours, _ = cv2.findContours(total_mask, cv2.RETR_EXTERNAL, cv2.CHAIN_APPROX_SIMPLE)\n",
    "if contours:\n",
    "    largest_contour = max(contours, key=cv2.contourArea)\n",
    "    x, y, w, h = cv2.boundingRect(largest_contour)\n",
    "    cv2.rectangle(image, (x, y), (x + w, y + h), (0, 255, 0), 2)\n",
    "    cv2.putText(image, ripeness, (x, y - 10), cv2.FONT_HERSHEY_SIMPLEX, 0.8, (0, 255, 0), 2, cv2.LINE_AA)\n",
    "\n",
    "# Show the result\n",
    "cv2.imshow('Image with Ripeness', image)\n",
    "\n",
    "# Wait for the ESC key\n",
    "while True:\n",
    "    if cv2.waitKey(5) == 27:  # ESC key\n",
    "        break\n",
    "\n",
    "# Clean up\n",
    "cv2.destroyAllWindows()"
   ]
  },
  {
   "cell_type": "code",
   "execution_count": null,
   "id": "870520e7-f911-4074-b907-b6abdf07e6e9",
   "metadata": {},
   "outputs": [],
   "source": []
  }
 ],
 "metadata": {
  "kernelspec": {
   "display_name": "Python (cv_env)",
   "language": "python",
   "name": "cv_env"
  },
  "language_info": {
   "codemirror_mode": {
    "name": "ipython",
    "version": 3
   },
   "file_extension": ".py",
   "mimetype": "text/x-python",
   "name": "python",
   "nbconvert_exporter": "python",
   "pygments_lexer": "ipython3",
   "version": "3.11.8"
  }
 },
 "nbformat": 4,
 "nbformat_minor": 5
}
